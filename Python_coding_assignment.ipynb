{
  "metadata": {
    "kernelspec": {
      "name": "python",
      "display_name": "Python (Pyodide)",
      "language": "python"
    },
    "language_info": {
      "codemirror_mode": {
        "name": "python",
        "version": 3
      },
      "file_extension": ".py",
      "mimetype": "text/x-python",
      "name": "python",
      "nbconvert_exporter": "python",
      "pygments_lexer": "ipython3",
      "version": "3.8"
    },
    "toc": {
      "base_numbering": 4
    }
  },
  "nbformat_minor": 5,
  "nbformat": 4,
  "cells": [
    {
      "id": "1ac81be3-5f92-4bf3-819c-149c96f15fdc",
      "cell_type": "markdown",
      "source": "PYTHON ASSIGNMENT\n                                                      ",
      "metadata": {}
    },
    {
      "id": "b626e0c9-606a-4cf3-9672-4aec4809160d",
      "cell_type": "markdown",
      "source": " Python is a versatile, high-level, general-purpose programming language known for its readability and ease of use, widely used in web development, data science, and machine learning. ",
      "metadata": {}
    },
    {
      "id": "36affc04-068a-4ede-8312-dba5bbce657e",
      "cell_type": "markdown",
      "source": "Section 1: Python Operators and Control Structures (5 questions)",
      "metadata": {}
    },
    {
      "id": "463afc6d-8051-49ae-bb1a-76781b1c747a",
      "cell_type": "markdown",
      "source": "1. Question: Write a Python program to calculate the sum of all numbers in a list using a for loop. \n\n   Sample Input: numbers = [1, 2, 3, 4, 5]\n   \n   Sample Output: 15\n",
      "metadata": {}
    },
    {
      "id": "92d84a61-7ed1-4c87-b79b-372911e9a939",
      "cell_type": "code",
      "source": "numbers = [1, 2, 3, 4, 5]\nsum=0\nfor i in numbers:\n    sum=s+i\nprint(sum)",
      "metadata": {
        "trusted": true
      },
      "outputs": [
        {
          "name": "stdout",
          "output_type": "stream",
          "text": "15\n"
        }
      ],
      "execution_count": 5
    },
    {
      "id": "ebfa6f14-8a5e-4469-9c59-a33c0a6d6ded",
      "cell_type": "markdown",
      "source": "2. Question: What is the output of the following code?\n\n    Code:\n   \n      x = 5  \n\n      y = 2\n    print(x ** y)\n  \n    Sample Output: 25\n",
      "metadata": {}
    },
    {
      "id": "f6cc1425-c39e-4a0e-8f12-589387e4f273",
      "cell_type": "code",
      "source": "x=5\ny=2\nprint(x**y) ",
      "metadata": {
        "trusted": true
      },
      "outputs": [
        {
          "name": "stdout",
          "output_type": "stream",
          "text": "25\n"
        }
      ],
      "execution_count": 10
    },
    {
      "id": "8651f383-9eee-4273-a683-9696a5e1cb66",
      "cell_type": "markdown",
      "source": " Explanation \n     \n     ** -> It is a exponential operator. So, it retruns 5**2=25    \n\n\n ",
      "metadata": {}
    },
    {
      "id": "5f93b016-052a-42bc-8762-a6015d4a7fab",
      "cell_type": "markdown",
      "source": "3. Question: Write a Python program to check if a number is a palindrome using a while loop.\n\n\n      Sample Input: num = 12321\n\n\n      Sample Output: True\n   ",
      "metadata": {}
    },
    {
      "id": "6df266fd-95b0-475d-885c-fcfdee26ee02",
      "cell_type": "code",
      "source": "num=12321\nn=num\nres=0\nrem=0\nwhile num>0:\n    rem=num%10\n    res=(res*10)+rem\n    num=num//10\nif n==res:\n    print(\"true\")\nelse :\n    print(\"false\")",
      "metadata": {
        "trusted": true
      },
      "outputs": [
        {
          "name": "stdout",
          "output_type": "stream",
          "text": "true\n"
        }
      ],
      "execution_count": 4
    },
    {
      "id": "9f3ff68d-ae3d-4c1b-9940-b25ebca6af17",
      "cell_type": "markdown",
      "source": "4  Question: What is the output of the following code?\n\n  Code:\n \n    fruits = ['apple', 'banana', 'cherry']\n   \n    print(fruits[-1])\n    \n    Sample Output: cherry\n ",
      "metadata": {
        "tags": [],
        "editable": true,
        "slideshow": {
          "slide_type": ""
        }
      }
    },
    {
      "id": "d70c4e3d-468a-4f6c-8425-f217a417e94c",
      "cell_type": "code",
      "source": "fruits=['apple','banana','cherry']\nprint(fruits[-1])",
      "metadata": {
        "trusted": true,
        "tags": [],
        "editable": true,
        "slideshow": {
          "slide_type": ""
        }
      },
      "outputs": [
        {
          "name": "stdout",
          "output_type": "stream",
          "text": "cherry\n"
        }
      ],
      "execution_count": 5
    },
    {
      "id": "36fe1c71-83d2-4f4d-9442-2716ddd3e8d7",
      "cell_type": "markdown",
      "source": "Explanation\n     \n    fruits[-1] is index position of cherry",
      "metadata": {}
    },
    {
      "id": "33618f9e-3b77-4a67-bcef-82eed618be22",
      "cell_type": "markdown",
      "source": "5. Question: Write a Python program to calculate the average of all numbers in a list using a for loop.\n\n    Sample Input: numbers = [1, 2, 3, 4, 5]\n\n     Sample Output: 3.0\n\n\n",
      "metadata": {}
    },
    {
      "id": "92b605e1-824f-44be-8e0c-027285559eed",
      "cell_type": "code",
      "source": "numbers=[1,2,3,4,5]\ns=0\nfor i in numbers:\n    s=i+s\navg=s/len(numbers)\nprint(avg)",
      "metadata": {
        "trusted": true
      },
      "outputs": [
        {
          "name": "stdout",
          "output_type": "stream",
          "text": "3.0\n"
        }
      ],
      "execution_count": 9
    },
    {
      "id": "88db7553-b875-4f5f-9099-9cecdddfb757",
      "cell_type": "markdown",
      "source": "Section 2: Lists and Dictionaries (5 questions)",
      "metadata": {}
    },
    {
      "id": "efcd623a-d559-49cf-ae4a-86b4b559522b",
      "cell_type": "markdown",
      "source": "6. Question: Write a Python program to create a dictionary with student names as keys and their grades as values.\n\n    Sample Input: students = ['John', 'Alice', 'Bob'], grades = [90, 85, 95]\n   \n    Sample Output: {'John': 90, 'Alice': 85, 'Bob': 95}",
      "metadata": {}
    },
    {
      "id": "f6716319-aeb7-47ec-a5e0-29c575b34470",
      "cell_type": "code",
      "source": " students = ['John', 'Alice', 'Bob']\n grades = [90, 85, 95]\nd={}\nfor i in range(len(students)):\n    d[students[i]]=grades[i]\nprint(d)",
      "metadata": {
        "trusted": true
      },
      "outputs": [
        {
          "name": "stdout",
          "output_type": "stream",
          "text": "{'John': 90, 'Alice': 85, 'Bob': 95}\n"
        }
      ],
      "execution_count": 12
    },
    {
      "id": "cee9b3ec-e1bd-4a2e-bec7-80adeb8a80b0",
      "cell_type": "markdown",
      "source": "7. Question: What is the output of the following code?\n \n   Code:\n\n    numbers = [1, 2, 3, 4, 5]\n   \n    print(numbers[1:3])\n   \n    Sample Output: [2, 3]\n",
      "metadata": {}
    },
    {
      "id": "9728d350-83df-4dc6-817d-07be63db9b43",
      "cell_type": "code",
      "source": "numbers = [1, 2, 3, 4, 5]\nprint(numbers[1:3])",
      "metadata": {
        "trusted": true
      },
      "outputs": [
        {
          "name": "stdout",
          "output_type": "stream",
          "text": "[2, 3]\n"
        }
      ],
      "execution_count": 1
    },
    {
      "id": "60e35dbf-c6eb-4420-8380-2e679cf9c6b8",
      "cell_type": "markdown",
      "source": "Explanation\n\n    numbers[1:3] is list slicing.\n    \n    It extracts elements starting from index 1 up to (but not including) index 3.",
      "metadata": {}
    },
    {
      "id": "fabc47e9-676a-4b56-83a6-27d14c7de0e3",
      "cell_type": "markdown",
      "source": "8. Question: Write a Python program to sort a list of numbers in ascending order using the sorted() function.\n\n     Sample Input: numbers = [4, 2, 9, 6, 5]\n\n     Sample Output: [2, 4, 5, 6, 9]\n",
      "metadata": {}
    },
    {
      "id": "a49d1614-8a1a-4fbd-8cb2-0611a49f0247",
      "cell_type": "code",
      "source": " numbers = [4, 2, 9, 6, 5]\n print(sorted(numbers))",
      "metadata": {
        "trusted": true
      },
      "outputs": [
        {
          "name": "stdout",
          "output_type": "stream",
          "text": "[2, 4, 5, 6, 9]\n"
        }
      ],
      "execution_count": 2
    },
    {
      "id": "c0f8ced7-1f53-4374-b7a6-998ab3784af8",
      "cell_type": "markdown",
      "source": "Explanation\n    \n     sorted() function is used to arrange given list in ascending order",
      "metadata": {}
    },
    {
      "id": "59a4f57b-4f8d-4fb7-8d41-561d42567a51",
      "cell_type": "markdown",
      "source": "9. Question: What is the output of the following code?\n\n   Code:\n\n      fruits = {'apple': 5, 'banana': 10, 'cherry': 15}\n   \n      print(fruits.get('banana'))\n\n      Sample Output: 10\n\n\n",
      "metadata": {}
    },
    {
      "id": "6879654a-1089-4491-abaf-1c882971b6ed",
      "cell_type": "code",
      "source": "fruits = {'apple': 5, 'banana': 10, 'cherry': 15}\n\nprint(fruits.get('banana'))",
      "metadata": {
        "trusted": true
      },
      "outputs": [
        {
          "name": "stdout",
          "output_type": "stream",
          "text": "10\n"
        }
      ],
      "execution_count": 3
    },
    {
      "id": "880febb7-66c6-4b9a-b2f8-9089ad407226",
      "cell_type": "markdown",
      "source": "Explanation\n\n    In fruits dictionary, we are retrieving a value of key(banana) by using get() method.",
      "metadata": {}
    },
    {
      "id": "08054054-84e4-404d-864e-73f0cf861c8e",
      "cell_type": "markdown",
      "source": "10. Question: Write a Python program to create a list of squares of all numbers from 1 to 10 using a list comprehension.\n\n    Sample Output: [1, 4, 9, 16, 25, 36, 49, 64, 81, 100]\n\n\n",
      "metadata": {}
    },
    {
      "id": "794a1d18-e704-4b87-b135-3576f25d5320",
      "cell_type": "code",
      "source": "n=[i**2 for i in range(1,11)]\nprint(n)",
      "metadata": {
        "trusted": true
      },
      "outputs": [
        {
          "name": "stdout",
          "output_type": "stream",
          "text": "[1, 4, 9, 16, 25, 36, 49, 64, 81, 100]\n"
        }
      ],
      "execution_count": 5
    },
    {
      "id": "fc3a7c71-4612-4f42-98cb-04f11ef4aca6",
      "cell_type": "markdown",
      "source": "Explanation\n\n     List comprehension is a concise way to create lists in Python using a single line of code. It replaces loops for generating lists, making the code more readable and efficient.\n\n     new_list = [expression(element) 'for' element 'in' iterable_object 'if' condition ]\n     ",
      "metadata": {}
    },
    {
      "id": "ab921a80-1d9b-4e6d-a339-974a056908d2",
      "cell_type": "markdown",
      "source": "\nSection 3: Advanced Topics (5 questions)",
      "metadata": {}
    },
    {
      "id": "9864924f-916c-4fa2-9ee7-feb448db2774",
      "cell_type": "markdown",
      "source": "11. Question: Write a Python program to calculate the factorial of a number using recursion.\n\n    Sample Input: num = 5\n\n    Sample Output: 120\n",
      "metadata": {}
    },
    {
      "id": "0ba147db-ae36-4255-a5a7-be4f7c76f1c3",
      "cell_type": "code",
      "source": "def factorial(n):\n    if n == 0 or n == 1:\n        return 1\n    return n * factorial(n - 1)\n\nnum = 5\nprint(factorial(num))",
      "metadata": {
        "trusted": true
      },
      "outputs": [
        {
          "name": "stdout",
          "output_type": "stream",
          "text": "120\n"
        }
      ],
      "execution_count": 2
    },
    {
      "id": "4545de30-07aa-41e0-a231-a9478e777971",
      "cell_type": "markdown",
      "source": "12. Question: What is the output of the following code?\n\n    Code:\n   \n     numbers = [1, 2, 3, 4, 5]\n    \n     print(list(reversed(numbers)))\n     \n     Sample Output: [5, 4, 3, 2, 1]",
      "metadata": {}
    },
    {
      "id": "686133a9-eb4d-42f4-a697-8a86883bffb8",
      "cell_type": "code",
      "source": "numbers = [1, 2, 3, 4, 5]\n\nprint(list(reversed(numbers)))",
      "metadata": {
        "trusted": true
      },
      "outputs": [
        {
          "name": "stdout",
          "output_type": "stream",
          "text": "[5, 4, 3, 2, 1]\n"
        }
      ],
      "execution_count": 3
    },
    {
      "id": "00a0f3e0-3539-4417-aa2e-68c1b2fd604a",
      "cell_type": "markdown",
      "source": "Explanation:\n      \n       reversed(numbers) returns an iterator that produces elements in reverse order.\n       list(reversed(numbers)) converts the iterator into a list.",
      "metadata": {}
    },
    {
      "id": "8689cf2a-ebcd-41a3-9c14-a9bfab4764e8",
      "cell_type": "markdown",
      "source": "13. Question: Write a Python program to create a generator that yields the Fibonacci sequence up to the nth term.\n\n    Sample Input: n = 10\n    \n    Sample Output: [0, 1, 1, 2, 3, 5, 8, 13, 21, 34]",
      "metadata": {}
    },
    {
      "id": "6ac9a630-cb5f-4499-84d7-deeb9b26da6d",
      "cell_type": "code",
      "source": "def fibonacci(n):\n    a, b = 0, 1\n    for i in range(n):\n        yield a\n        a, b = b, a + b\n\nn = 10\nprint(list(fibonacci(n)))",
      "metadata": {
        "trusted": true
      },
      "outputs": [
        {
          "name": "stdout",
          "output_type": "stream",
          "text": "[0, 1, 1, 2, 3, 5, 8, 13, 21, 34]\n"
        }
      ],
      "execution_count": 26
    },
    {
      "id": "9b80dccf-1fca-4b43-a75e-f206d5cc20a1",
      "cell_type": "markdown",
      "source": "Explanation:\n   \n    yield is used to create a generator instead of storing all values in memory.\n    a, b = 0, 1 initializes the first two numbers.\n    The loop runs n times, yielding a each time and updating a and b.",
      "metadata": {}
    },
    {
      "id": "17a3758c-41ba-48b3-bada-55ce71efb486",
      "cell_type": "markdown",
      "source": "14. Question: What is the output of the following code?\n\n     Code:\n\n       import math\n\n       print(math.pi)\n\n       Sample Output: 3.14159...\n\n\n",
      "metadata": {}
    },
    {
      "id": "ac942533-e68d-4e2b-8746-79e4711fdfe0",
      "cell_type": "code",
      "source": "import math\n\nprint(math.pi)",
      "metadata": {
        "trusted": true
      },
      "outputs": [
        {
          "name": "stdout",
          "output_type": "stream",
          "text": "3.141592653589793\n"
        }
      ],
      "execution_count": 2
    },
    {
      "id": "7662edd8-314f-4e8c-a610-03e5ff0d239f",
      "cell_type": "markdown",
      "source": "Explanation\n\n      The math module is imported and math.pi is a constant in the math module that represents the mathematical value of π (pi).\n      The value of math.pi is approximately 3.141592653589793.",
      "metadata": {}
    },
    {
      "id": "65c0d724-afc5-4bce-a1d5-8d3d7b7a23f4",
      "cell_type": "markdown",
      "source": "15. Question: Write a Python program to print the inverted star pyramid of height 5.\n",
      "metadata": {}
    },
    {
      "id": "36b01b38-54cd-49f0-be17-11f2e7d08d21",
      "cell_type": "code",
      "source": "for i in range(5,0,-1):\n    print(\" \"*(5-i)+\"* \"*i)",
      "metadata": {
        "trusted": true
      },
      "outputs": [
        {
          "name": "stdout",
          "output_type": "stream",
          "text": "* * * * * \n * * * * \n  * * * \n   * * \n    * \n"
        }
      ],
      "execution_count": 19
    },
    {
      "id": "ddaab7f3-efbd-435c-b9a8-a56f686b9e02",
      "cell_type": "markdown",
      "source": "Explanation:\n      \n      The for loop runs from height(5) down to 1, decreasing in each iteration.\n      \" \" * (5-i) adds leading spaces to align the pyramid.\n      \"* \" * i prints decreasing stars in each row.",
      "metadata": {}
    },
    {
      "id": "5653b4e0-8457-43fb-92bd-f87a0cd47f60",
      "cell_type": "code",
      "source": "",
      "metadata": {
        "trusted": true
      },
      "outputs": [],
      "execution_count": null
    }
  ]
}